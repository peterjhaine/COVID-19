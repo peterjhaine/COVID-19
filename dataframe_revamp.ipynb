{
 "cells": [
  {
   "cell_type": "code",
   "execution_count": 17,
   "metadata": {},
   "outputs": [],
   "source": [
    "import numpy as np\n",
    "from pathlib import Path\n",
    "import pandas as pd\n",
    "import kmapper\n",
    "from sklearn import datasets\n",
    "from datetime import date, timedelta, datetime\n",
    "from sklearn.preprocessing import normalize\n",
    "import networkx as nx\n",
    "import IPython\n",
    "import tkinter"
   ]
  },
  {
   "cell_type": "code",
   "execution_count": 18,
   "metadata": {},
   "outputs": [],
   "source": [
    "data_folder = Path(\"csse_covid_19_data/csse_covid_19_daily_reports/\")\n",
    "\n",
    "pandemic_start = date(2020, 1, 22)\n",
    "\n",
    "start_date = date(2020, 3, 22)\n",
    "end_date = date(2020, 12, 19)\n",
    "\n",
    "delete_location = True\n",
    "delete_unassigned = True\n",
    "normalize_data = True\n",
    "sort_by_location = False\n",
    "\n",
    "delta = end_date - start_date"
   ]
  },
  {
   "cell_type": "code",
   "execution_count": 19,
   "metadata": {},
   "outputs": [],
   "source": [
    "for day in range(delta.days + 1):\n",
    "\n",
    "    date = start_date + timedelta(days=day)\n",
    "    day_file = date.strftime(\"%m-%d-%Y\") + \".csv\"\n",
    "\n",
    "    file_to_open = data_folder / day_file\n",
    "    raw_data = pd.read_csv(file_to_open, header=0, delimiter=',', encoding=None, usecols=(\n",
    "        \"Admin2\", \"Province_State\", \"Country_Region\", \"Lat\", \"Long_\", \"Confirmed\"))\n",
    "\n",
    "    days_since_start = date - pandemic_start\n",
    "\n",
    "    raw_data['Days since start'] = days_since_start.days  # number of days\n",
    "    raw_data['Date'] = date.strftime(\"%m-%d-%Y\")\n",
    "    raw_data = raw_data[raw_data['Lat'].notna()] #drop rows where Lat is empty\n",
    "    raw_data = raw_data[raw_data['Long_'].notna()] #drop rows where Long_ is empty\n",
    "    raw_data = raw_data.fillna(value = \"N/A\")\n",
    "    \n",
    "    if day == 0:\n",
    "        final_array = raw_data.copy(deep=False)  # make shallow copy\n",
    "    else:\n",
    "        final_array = final_array.append(raw_data)"
   ]
  },
  {
   "cell_type": "code",
   "execution_count": 20,
   "metadata": {},
   "outputs": [
    {
     "name": "stdout",
     "output_type": "stream",
     "text": [
      "['Chesterfield, Virginia, 03-22-2020' 'Alexandria, Virginia, 03-22-2020'\n",
      " 'Stafford, Virginia, 03-22-2020' ... 'Cedar, Missouri, 12-19-2020'\n",
      " 'Crawford, Missouri, 12-19-2020' 'Daviess, Missouri, 12-19-2020']\n"
     ]
    }
   ],
   "source": [
    "final_array.drop(\n",
    "    final_array[final_array['Country_Region'] != \"US\"].index, inplace=True)\n",
    "\n",
    "if delete_unassigned:\n",
    "    final_array.drop(\n",
    "        final_array[final_array['Admin2'] == \"Unassigned\"].index, inplace=True)\n",
    "    final_array.drop(\n",
    "        final_array[final_array.Admin2.str.contains(\"Out of\")].index, inplace=True)\n",
    "\n",
    "if sort_by_location:\n",
    "    final_array = final_array.sort_values(['Province_State', 'Admin2'])\n",
    "\n",
    "if delete_location:\n",
    "    #matrix: \"Admin2\", \"Province_State\", \"Country_Region\", \"Lat\", \"Long_\", \"Confirmed\", \"days since start\", \"date\"\n",
    "    temp = final_array.to_numpy()\n",
    "    indices = np.empty(len(temp), dtype=object)\n",
    "    for i in range(len(temp)):\n",
    "        indices[i] = str(temp[i, 0]) + \", \" + str(temp[i, 1]) + \", \" + str(temp[i, 7])\n",
    "\n",
    "    print(indices)\n",
    "    final_array = final_array.drop(\n",
    "        columns=[\"Admin2\", \"Province_State\", \"Country_Region\", \"Date\"])\n",
    "    final_array = final_array.to_numpy()\n",
    "    \n",
    "    if normalize_data: #normalize the columns (axis = 0)            \n",
    "        data = normalize(final_array, axis=0, norm='l2')\n",
    "    else:\n",
    "        data = final_array.copy()\n",
    "else:\n",
    "    data = final_array.copy()"
   ]
  },
  {
   "cell_type": "code",
   "execution_count": 21,
   "metadata": {},
   "outputs": [],
   "source": [
    "km = kmapper.KeplerMapper()\n",
    "lens = km.project(data)\n",
    "graph = km.map(X=data, lens=lens, cover=kmapper.Cover(n_cubes=10, perc_overlap=0.08))"
   ]
  },
  {
   "cell_type": "code",
   "execution_count": 22,
   "metadata": {},
   "outputs": [
    {
     "data": {
      "text/html": [
       "\n",
       "        <iframe\n",
       "            width=\"1200\"\n",
       "            height=\"800\"\n",
       "            src=\"make_circles_keplermapper_output.html\"\n",
       "            frameborder=\"0\"\n",
       "            allowfullscreen\n",
       "        ></iframe>\n",
       "        "
      ],
      "text/plain": [
       "<IPython.lib.display.IFrame at 0x7f8e1114c310>"
      ]
     },
     "execution_count": 22,
     "metadata": {},
     "output_type": "execute_result"
    }
   ],
   "source": [
    "url = 'make_circles_keplermapper_output.html'\n",
    "\n",
    "\n",
    "km.visualize(graph,\n",
    "                 path_html=url,\n",
    "                 title=\"COVID-19 Cases Dataset\", custom_tooltips = indices)\n",
    "\n",
    "# iframe = '<iframe src=' + url + ' width=1200 height=800></iframe>'\n",
    "# IPython.display.HTML(iframe)\n",
    "IPython.display.IFrame(url, width=1200, height=800)"
   ]
  },
  {
   "cell_type": "code",
   "execution_count": 23,
   "metadata": {},
   "outputs": [],
   "source": [
    "# nx.draw(nx_graph)"
   ]
  },
  {
   "cell_type": "code",
   "execution_count": 24,
   "metadata": {},
   "outputs": [
    {
     "name": "stdout",
     "output_type": "stream",
     "text": [
      "[[ 1.57225311e-03 -1.34782258e-03  1.19024238e-06  4.60715067e-04]\n",
      " [ 1.63284300e-03 -1.33905033e-03  7.43901490e-07  4.60715067e-04]\n",
      " [ 1.61616643e-03 -1.34560540e-03  7.43901490e-07  4.60715067e-04]\n",
      " ...\n",
      " [ 1.58698473e-03 -1.63042103e-03  7.18608840e-05  2.54929004e-03]\n",
      " [ 1.59761637e-03 -1.58613729e-03  2.19897281e-04  2.54929004e-03]\n",
      " [ 1.68111439e-03 -1.63269226e-03  6.32316267e-05  2.54929004e-03]]\n"
     ]
    }
   ],
   "source": [
    "print(data)"
   ]
  },
  {
   "cell_type": "code",
   "execution_count": null,
   "metadata": {},
   "outputs": [],
   "source": []
  },
  {
   "cell_type": "code",
   "execution_count": null,
   "metadata": {},
   "outputs": [],
   "source": []
  }
 ],
 "metadata": {
  "kernelspec": {
   "display_name": "Python 3",
   "language": "python",
   "name": "python3"
  },
  "language_info": {
   "codemirror_mode": {
    "name": "ipython",
    "version": 3
   },
   "file_extension": ".py",
   "mimetype": "text/x-python",
   "name": "python",
   "nbconvert_exporter": "python",
   "pygments_lexer": "ipython3",
   "version": "3.8.5"
  }
 },
 "nbformat": 4,
 "nbformat_minor": 4
}
